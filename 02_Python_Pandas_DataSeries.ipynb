{
  "nbformat": 4,
  "nbformat_minor": 0,
  "metadata": {
    "kernelspec": {
      "display_name": "Python 3",
      "language": "python",
      "name": "python3"
    },
    "language_info": {
      "codemirror_mode": {
        "name": "ipython",
        "version": 3
      },
      "file_extension": ".py",
      "mimetype": "text/x-python",
      "name": "python",
      "nbconvert_exporter": "python",
      "pygments_lexer": "ipython3",
      "version": "3.7.4"
    },
    "colab": {
      "name": "02_Python-Pandas-DataSeries.ipynb",
      "provenance": [],
      "include_colab_link": true
    }
  },
  "cells": [
    {
      "cell_type": "markdown",
      "metadata": {
        "id": "view-in-github",
        "colab_type": "text"
      },
      "source": [
        "<a href=\"https://colab.research.google.com/github/Aust0/MicrosoftLearning-DP-200-Implementing-an-Azure-Data-Solution-/blob/master/02_Python_Pandas_DataSeries.ipynb\" target=\"_parent\"><img src=\"https://colab.research.google.com/assets/colab-badge.svg\" alt=\"Open In Colab\"/></a>"
      ]
    },
    {
      "cell_type": "code",
      "metadata": {
        "id": "9svJW_aJBR8q"
      },
      "source": [
        "import numpy as np\n",
        "import pandas as pd\n",
        "import datetime"
      ],
      "execution_count": null,
      "outputs": []
    },
    {
      "cell_type": "markdown",
      "metadata": {
        "id": "EJSltHNTBR9K"
      },
      "source": [
        "## DataSeries"
      ]
    },
    {
      "cell_type": "code",
      "metadata": {
        "id": "PbSAgR_HBR9R"
      },
      "source": [
        "my_readings = [3.12, 3.54, 3.24, 3.67, 3.56, 3.87]"
      ],
      "execution_count": null,
      "outputs": []
    },
    {
      "cell_type": "markdown",
      "metadata": {
        "id": "2Tb2RQqtBR9e"
      },
      "source": [
        "We can create a DataSeries using any list or np.array,"
      ]
    },
    {
      "cell_type": "code",
      "metadata": {
        "id": "gfapSZW4BR9h",
        "colab": {
          "base_uri": "https://localhost:8080/"
        },
        "outputId": "fa445cbd-ebba-403d-afcc-a2429827756b"
      },
      "source": [
        "ds_readings = pd.Series(my_readings)\n",
        "ds_readings"
      ],
      "execution_count": null,
      "outputs": [
        {
          "output_type": "execute_result",
          "data": {
            "text/plain": [
              "0    3.12\n",
              "1    3.54\n",
              "2    3.24\n",
              "3    3.67\n",
              "4    3.56\n",
              "5    3.87\n",
              "dtype: float64"
            ]
          },
          "metadata": {},
          "execution_count": 121
        }
      ]
    },
    {
      "cell_type": "code",
      "metadata": {
        "id": "8-HqvLKQBR9s",
        "colab": {
          "base_uri": "https://localhost:8080/"
        },
        "outputId": "c666664c-578e-4639-81fc-9ab6fa29e599"
      },
      "source": [
        "## Output Index\n",
        "ds_readings.index"
      ],
      "execution_count": null,
      "outputs": [
        {
          "output_type": "execute_result",
          "data": {
            "text/plain": [
              "RangeIndex(start=0, stop=6, step=1)"
            ]
          },
          "metadata": {},
          "execution_count": 122
        }
      ]
    },
    {
      "cell_type": "code",
      "metadata": {
        "id": "X5OV2UdZBR9y",
        "colab": {
          "base_uri": "https://localhost:8080/"
        },
        "outputId": "f176194e-88be-4d9e-f3ea-968a4f7ba28c"
      },
      "source": [
        "## Output Value\n",
        "ds_readings.values"
      ],
      "execution_count": null,
      "outputs": [
        {
          "output_type": "execute_result",
          "data": {
            "text/plain": [
              "array([3.12, 3.54, 3.24, 3.67, 3.56, 3.87])"
            ]
          },
          "metadata": {},
          "execution_count": 123
        }
      ]
    },
    {
      "cell_type": "code",
      "metadata": {
        "id": "dEnISG7mBR99",
        "colab": {
          "base_uri": "https://localhost:8080/"
        },
        "outputId": "fd59d262-3651-4e2e-d6c4-7c1d29bae917"
      },
      "source": [
        "ds_readings[0]"
      ],
      "execution_count": null,
      "outputs": [
        {
          "output_type": "execute_result",
          "data": {
            "text/plain": [
              "3.12"
            ]
          },
          "metadata": {},
          "execution_count": 124
        }
      ]
    },
    {
      "cell_type": "code",
      "metadata": {
        "id": "tJfdoy-aBR9_",
        "colab": {
          "base_uri": "https://localhost:8080/"
        },
        "outputId": "a4688a3d-0f29-47f5-e4f2-04ea51b70f9a"
      },
      "source": [
        "ds_readings[4]"
      ],
      "execution_count": null,
      "outputs": [
        {
          "output_type": "execute_result",
          "data": {
            "text/plain": [
              "3.56"
            ]
          },
          "metadata": {},
          "execution_count": 126
        }
      ]
    },
    {
      "cell_type": "markdown",
      "metadata": {
        "id": "EplHYfwIBR-D"
      },
      "source": [
        ""
      ]
    },
    {
      "cell_type": "code",
      "metadata": {
        "id": "kvV7zJu2BR-I",
        "colab": {
          "base_uri": "https://localhost:8080/"
        },
        "outputId": "533b01eb-c7bf-40fe-9172-8112245da15b"
      },
      "source": [
        "ds_readings[1:4]"
      ],
      "execution_count": null,
      "outputs": [
        {
          "output_type": "execute_result",
          "data": {
            "text/plain": [
              "1    3.54\n",
              "2    3.24\n",
              "3    3.67\n",
              "dtype: float64"
            ]
          },
          "metadata": {},
          "execution_count": 127
        }
      ]
    },
    {
      "cell_type": "markdown",
      "metadata": {
        "id": "WkI0xXPaBR-L"
      },
      "source": [
        "**Masking**"
      ]
    },
    {
      "cell_type": "code",
      "metadata": {
        "id": "UcGlYvqSBR-N",
        "colab": {
          "base_uri": "https://localhost:8080/"
        },
        "outputId": "74a1d016-22cf-4848-e520-b25fe93dae8e"
      },
      "source": [
        "## Note list input\n",
        "ds_readings[[True, False, True, False, False, False]]"
      ],
      "execution_count": null,
      "outputs": [
        {
          "output_type": "execute_result",
          "data": {
            "text/plain": [
              "0    3.12\n",
              "2    3.24\n",
              "dtype: float64"
            ]
          },
          "metadata": {},
          "execution_count": 128
        }
      ]
    },
    {
      "cell_type": "markdown",
      "metadata": {
        "id": "SwyahNzCBR-P"
      },
      "source": [
        ""
      ]
    },
    {
      "cell_type": "code",
      "metadata": {
        "id": "Wlc52eMqBR-R",
        "colab": {
          "base_uri": "https://localhost:8080/"
        },
        "outputId": "48f293eb-93ce-40d5-c200-2e263e6c738f"
      },
      "source": [
        "ds_readings + 10"
      ],
      "execution_count": null,
      "outputs": [
        {
          "output_type": "execute_result",
          "data": {
            "text/plain": [
              "0    13.12\n",
              "1    13.54\n",
              "2    13.24\n",
              "3    13.67\n",
              "4    13.56\n",
              "5    13.87\n",
              "dtype: float64"
            ]
          },
          "metadata": {},
          "execution_count": 129
        }
      ]
    },
    {
      "cell_type": "markdown",
      "metadata": {
        "id": "oL510WAyBR-S"
      },
      "source": [
        ""
      ]
    },
    {
      "cell_type": "code",
      "metadata": {
        "id": "NZrx0y0TBR-T",
        "colab": {
          "base_uri": "https://localhost:8080/"
        },
        "outputId": "95ab0192-362b-4d9f-dfbb-e71349686505"
      },
      "source": [
        "ds_readings > 3.5"
      ],
      "execution_count": null,
      "outputs": [
        {
          "output_type": "execute_result",
          "data": {
            "text/plain": [
              "0    False\n",
              "1     True\n",
              "2    False\n",
              "3     True\n",
              "4     True\n",
              "5     True\n",
              "dtype: bool"
            ]
          },
          "metadata": {},
          "execution_count": 130
        }
      ]
    },
    {
      "cell_type": "markdown",
      "metadata": {
        "id": "aiAKgjTmBR-W"
      },
      "source": [
        "### Q: Why might the above be useful?"
      ]
    },
    {
      "cell_type": "markdown",
      "metadata": {
        "id": "et3O8q-rBR-a"
      },
      "source": [
        "Output would be very useful when used as a mask for another series"
      ]
    },
    {
      "cell_type": "code",
      "metadata": {
        "id": "qG5zyhW6BR-c",
        "colab": {
          "base_uri": "https://localhost:8080/"
        },
        "outputId": "dd167ada-3e17-481b-fc4e-a79be5f69b8e"
      },
      "source": [
        "ds_readings[ds_readings > 3.5]"
      ],
      "execution_count": null,
      "outputs": [
        {
          "output_type": "execute_result",
          "data": {
            "text/plain": [
              "1    3.54\n",
              "3    3.67\n",
              "4    3.56\n",
              "5    3.87\n",
              "dtype: float64"
            ]
          },
          "metadata": {},
          "execution_count": 131
        }
      ]
    },
    {
      "cell_type": "markdown",
      "metadata": {
        "id": "MHQn9lPoBR-f"
      },
      "source": [
        "We can always combine filtering and operators"
      ]
    },
    {
      "cell_type": "code",
      "metadata": {
        "id": "6d3C8UUnBR-j",
        "colab": {
          "base_uri": "https://localhost:8080/"
        },
        "outputId": "1a70ca71-ec78-4091-9dc5-b7f182ba583a"
      },
      "source": [
        "ds_readings[ds_readings > 3.5] * 2"
      ],
      "execution_count": null,
      "outputs": [
        {
          "output_type": "execute_result",
          "data": {
            "text/plain": [
              "1    7.08\n",
              "3    7.34\n",
              "4    7.12\n",
              "5    7.74\n",
              "dtype: float64"
            ]
          },
          "metadata": {},
          "execution_count": 132
        }
      ]
    },
    {
      "cell_type": "markdown",
      "metadata": {
        "id": "gNYcXbeeBR-l"
      },
      "source": [
        "And to change the values, either all, or partial is easy,"
      ]
    },
    {
      "cell_type": "code",
      "metadata": {
        "id": "0Z7FWcv7BR-q"
      },
      "source": [
        "ds_readings[ds_readings > 3.5] = 0"
      ],
      "execution_count": null,
      "outputs": []
    },
    {
      "cell_type": "code",
      "metadata": {
        "id": "EPWTQ59zBR-r",
        "colab": {
          "base_uri": "https://localhost:8080/"
        },
        "outputId": "c60c1258-218d-4a69-9c96-763ece853a24"
      },
      "source": [
        "ds_readings"
      ],
      "execution_count": null,
      "outputs": [
        {
          "output_type": "execute_result",
          "data": {
            "text/plain": [
              "0    3.12\n",
              "1    0.00\n",
              "2    3.24\n",
              "3    0.00\n",
              "4    0.00\n",
              "5    0.00\n",
              "dtype: float64"
            ]
          },
          "metadata": {},
          "execution_count": 134
        }
      ]
    },
    {
      "cell_type": "markdown",
      "metadata": {
        "id": "EGIGbgXIBR-s"
      },
      "source": [
        "## Exercise\n",
        "   * ### Create a new Dataseries on a topic of your choosing(numeric, length = 8)\n",
        "   * ### Output the 2nd, last, and last two elements\n",
        "   * ### Subtract a number from all elements\n",
        "   * ### Generate and apply a mask\n",
        "   * ### Use the mask to set values to 0"
      ]
    },
    {
      "cell_type": "code",
      "metadata": {
        "colab": {
          "base_uri": "https://localhost:8080/"
        },
        "id": "l5XxaZylKBsT",
        "outputId": "062d3beb-db38-4822-d227-c635035134b8"
      },
      "source": [
        "myds = pd.Series([12, 23, 34 ,45 ,56 ,67, 78, 89])\n",
        "myds[1] \n",
        "myds[-1:]\n",
        "myds[-2:]\n",
        "\n",
        "myds-1\n",
        "\n",
        "myds>40\n",
        "myds[myds>40]=0\n",
        "myds"
      ],
      "execution_count": null,
      "outputs": [
        {
          "output_type": "execute_result",
          "data": {
            "text/plain": [
              "0    12\n",
              "1    23\n",
              "2    34\n",
              "3     0\n",
              "4     0\n",
              "5     0\n",
              "6     0\n",
              "7     0\n",
              "dtype: int64"
            ]
          },
          "metadata": {},
          "execution_count": 64
        }
      ]
    },
    {
      "cell_type": "markdown",
      "metadata": {
        "id": "PZWgflK_BR-w"
      },
      "source": [
        "### How do I modify index?"
      ]
    },
    {
      "cell_type": "code",
      "metadata": {
        "id": "wLG_wLZJBR-0"
      },
      "source": [
        "timings = [datetime.time(1, 3, increment) for increment in range(6)]"
      ],
      "execution_count": null,
      "outputs": []
    },
    {
      "cell_type": "code",
      "metadata": {
        "id": "NjTv8UC1BR-1",
        "colab": {
          "base_uri": "https://localhost:8080/"
        },
        "outputId": "6875a033-f9a4-4620-9a40-2bad862cebfe"
      },
      "source": [
        "timings"
      ],
      "execution_count": null,
      "outputs": [
        {
          "output_type": "execute_result",
          "data": {
            "text/plain": [
              "[datetime.time(1, 3),\n",
              " datetime.time(1, 3, 1),\n",
              " datetime.time(1, 3, 2),\n",
              " datetime.time(1, 3, 3),\n",
              " datetime.time(1, 3, 4),\n",
              " datetime.time(1, 3, 5)]"
            ]
          },
          "metadata": {},
          "execution_count": 136
        }
      ]
    },
    {
      "cell_type": "code",
      "metadata": {
        "id": "Pdt9OMESBR-2"
      },
      "source": [
        "ds_readings.index = timings"
      ],
      "execution_count": null,
      "outputs": []
    },
    {
      "cell_type": "code",
      "metadata": {
        "id": "4Z8JnvA7BR-2",
        "colab": {
          "base_uri": "https://localhost:8080/"
        },
        "outputId": "2ebd5087-39af-4675-c7bd-f930cc74f448"
      },
      "source": [
        "ds_readings"
      ],
      "execution_count": null,
      "outputs": [
        {
          "output_type": "execute_result",
          "data": {
            "text/plain": [
              "01:03:00    3.12\n",
              "01:03:01    0.00\n",
              "01:03:02    3.24\n",
              "01:03:03    0.00\n",
              "01:03:04    0.00\n",
              "01:03:05    0.00\n",
              "dtype: float64"
            ]
          },
          "metadata": {},
          "execution_count": 139
        }
      ]
    },
    {
      "cell_type": "markdown",
      "metadata": {
        "id": "Bnf17j9KBR-8"
      },
      "source": [
        "The `.value_counts` function finds all the unique values in the series and gives the number of ocurrences of the same number in the series,"
      ]
    },
    {
      "cell_type": "code",
      "metadata": {
        "id": "O1P1haa0BR-9",
        "colab": {
          "base_uri": "https://localhost:8080/"
        },
        "outputId": "8e78b656-7c6d-4003-8285-8a5559abbeb6"
      },
      "source": [
        "ds_readings.value_counts()"
      ],
      "execution_count": null,
      "outputs": [
        {
          "output_type": "execute_result",
          "data": {
            "text/plain": [
              "0.00    4\n",
              "3.12    1\n",
              "3.24    1\n",
              "dtype: int64"
            ]
          },
          "metadata": {},
          "execution_count": 140
        }
      ]
    },
    {
      "cell_type": "markdown",
      "metadata": {
        "id": "wzELCw8GBR--"
      },
      "source": [
        "we can also sort, ascending and descending"
      ]
    },
    {
      "cell_type": "code",
      "metadata": {
        "id": "sJSnOkU9BR-_",
        "colab": {
          "base_uri": "https://localhost:8080/"
        },
        "outputId": "f53fbe99-5abd-48ee-a5e1-c06409b1c1e8"
      },
      "source": [
        "ds_readings.sort_values()"
      ],
      "execution_count": null,
      "outputs": [
        {
          "output_type": "execute_result",
          "data": {
            "text/plain": [
              "01:03:01    0.00\n",
              "01:03:03    0.00\n",
              "01:03:04    0.00\n",
              "01:03:05    0.00\n",
              "01:03:00    3.12\n",
              "01:03:02    3.24\n",
              "00:03:07    3.48\n",
              "00:03:06     NaN\n",
              "dtype: float64"
            ]
          },
          "metadata": {},
          "execution_count": 185
        }
      ]
    },
    {
      "cell_type": "code",
      "metadata": {
        "id": "UvxpJ8MuBR_B",
        "colab": {
          "base_uri": "https://localhost:8080/"
        },
        "outputId": "a91cd623-0feb-4d44-f505-dcc1acf161e2"
      },
      "source": [
        "ds_readings.sort_values(ascending = False)"
      ],
      "execution_count": null,
      "outputs": [
        {
          "output_type": "execute_result",
          "data": {
            "text/plain": [
              "01:03:01    0.00\n",
              "01:03:03    0.00\n",
              "01:03:04    0.00\n",
              "01:03:05    0.00\n",
              "01:03:00    3.12\n",
              "01:03:02    3.24\n",
              "dtype: float64"
            ]
          },
          "metadata": {},
          "execution_count": 143
        }
      ]
    },
    {
      "cell_type": "markdown",
      "metadata": {
        "id": "u3VdkCjuBR_B"
      },
      "source": [
        "### np.nan"
      ]
    },
    {
      "cell_type": "markdown",
      "metadata": {
        "id": "HaNyo9dyBR_C"
      },
      "source": [
        "`np.nan` refers to a value that should be but do not exist. And pandas provides an easiy function to check emptiness"
      ]
    },
    {
      "cell_type": "markdown",
      "metadata": {
        "id": "OQtBZXfJBR_D"
      },
      "source": [
        "We first add np.nan into the seies"
      ]
    },
    {
      "cell_type": "code",
      "metadata": {
        "id": "FzQSCkK7BR_F"
      },
      "source": [
        "ds_readings[datetime.time(0,3,6)] =  np.nan "
      ],
      "execution_count": null,
      "outputs": []
    },
    {
      "cell_type": "code",
      "metadata": {
        "id": "CG5aziUSBR_J",
        "colab": {
          "base_uri": "https://localhost:8080/"
        },
        "outputId": "0e4a28ba-73fb-4041-8a37-2bca3bfc3def"
      },
      "source": [
        "ds_readings"
      ],
      "execution_count": null,
      "outputs": [
        {
          "output_type": "execute_result",
          "data": {
            "text/plain": [
              "01:03:00    3.12\n",
              "01:03:01    0.00\n",
              "01:03:02    3.24\n",
              "01:03:03    0.00\n",
              "01:03:04    0.00\n",
              "01:03:05    0.00\n",
              "00:03:07    3.48\n",
              "00:03:06     NaN\n",
              "dtype: float64"
            ]
          },
          "metadata": {},
          "execution_count": 173
        }
      ]
    },
    {
      "cell_type": "code",
      "metadata": {
        "id": "SFg9B4qtBR_M"
      },
      "source": [
        "ds_readings[datetime.time(0,3,7)] =  3.48 "
      ],
      "execution_count": null,
      "outputs": []
    },
    {
      "cell_type": "code",
      "metadata": {
        "id": "AM_bTUWABR_N",
        "colab": {
          "base_uri": "https://localhost:8080/"
        },
        "outputId": "4fe26376-cfae-4a16-8094-0be67f6b1180"
      },
      "source": [
        "ds_readings"
      ],
      "execution_count": null,
      "outputs": [
        {
          "output_type": "execute_result",
          "data": {
            "text/plain": [
              "01:03:00    3.12\n",
              "01:03:01    0.00\n",
              "01:03:02    3.24\n",
              "01:03:03    0.00\n",
              "01:03:04    0.00\n",
              "01:03:05    0.00\n",
              "00:03:07    3.48\n",
              "00:03:06     NaN\n",
              "dtype: float64"
            ]
          },
          "metadata": {},
          "execution_count": 175
        }
      ]
    },
    {
      "cell_type": "markdown",
      "metadata": {
        "id": "k5nFnhwyBR_O"
      },
      "source": [
        "And pandas provides method for checking emptiness"
      ]
    },
    {
      "cell_type": "code",
      "metadata": {
        "id": "7ZNcKQl_BR_Q",
        "colab": {
          "base_uri": "https://localhost:8080/"
        },
        "outputId": "6c3ad08e-1e03-465d-c69d-44b8169f67d9"
      },
      "source": [
        "ds_readings.isna()"
      ],
      "execution_count": null,
      "outputs": [
        {
          "output_type": "execute_result",
          "data": {
            "text/plain": [
              "01:03:00    False\n",
              "01:03:01    False\n",
              "01:03:02    False\n",
              "01:03:03    False\n",
              "01:03:04    False\n",
              "01:03:05    False\n",
              "00:03:07    False\n",
              "00:03:06     True\n",
              "dtype: bool"
            ]
          },
          "metadata": {},
          "execution_count": 176
        }
      ]
    },
    {
      "cell_type": "code",
      "metadata": {
        "id": "ePj1WdjYBR_R",
        "colab": {
          "base_uri": "https://localhost:8080/"
        },
        "outputId": "47b8f222-de88-4a5e-93ab-59da39141120"
      },
      "source": [
        "ds_readings[ds_readings.isna()]"
      ],
      "execution_count": null,
      "outputs": [
        {
          "output_type": "execute_result",
          "data": {
            "text/plain": [
              "00:03:06   NaN\n",
              "dtype: float64"
            ]
          },
          "metadata": {},
          "execution_count": 186
        }
      ]
    },
    {
      "cell_type": "code",
      "metadata": {
        "id": "PIGoZoFjBR_R"
      },
      "source": [
        "result = ds_readings[ds_readings.isna()]"
      ],
      "execution_count": null,
      "outputs": []
    },
    {
      "cell_type": "code",
      "metadata": {
        "id": "-LKgD3UpBR_S",
        "colab": {
          "base_uri": "https://localhost:8080/"
        },
        "outputId": "e45d49b8-e890-4a71-e81e-f4f80d9af62c"
      },
      "source": [
        "result.index"
      ],
      "execution_count": null,
      "outputs": [
        {
          "output_type": "execute_result",
          "data": {
            "text/plain": [
              "Index([00:03:06], dtype='object')"
            ]
          },
          "metadata": {},
          "execution_count": 188
        }
      ]
    },
    {
      "cell_type": "markdown",
      "metadata": {
        "id": "-qgI5Fy-BR_U"
      },
      "source": [
        "To remove items, use drop. You need to refer to the index value."
      ]
    },
    {
      "cell_type": "code",
      "metadata": {
        "id": "8qjfBoRNBR_V",
        "colab": {
          "base_uri": "https://localhost:8080/"
        },
        "outputId": "8f4b8ad8-ce57-4bcc-f3ff-daed3edad201"
      },
      "source": [
        "ds_readings.drop(result.index)  #can insert after index; \"\", inplace=TRUE\" to save the change to dsreadings"
      ],
      "execution_count": null,
      "outputs": [
        {
          "output_type": "execute_result",
          "data": {
            "text/plain": [
              "01:03:00    3.12\n",
              "01:03:01    0.00\n",
              "01:03:02    3.24\n",
              "01:03:03    0.00\n",
              "01:03:04    0.00\n",
              "01:03:05    0.00\n",
              "00:03:07    3.48\n",
              "dtype: float64"
            ]
          },
          "metadata": {},
          "execution_count": 236
        }
      ]
    },
    {
      "cell_type": "code",
      "metadata": {
        "id": "dXtweInTBR_W",
        "colab": {
          "base_uri": "https://localhost:8080/"
        },
        "outputId": "983b2fb5-f5f9-45c2-afef-d8cd7f36e095"
      },
      "source": [
        "ds_readings.isna()"
      ],
      "execution_count": null,
      "outputs": [
        {
          "output_type": "execute_result",
          "data": {
            "text/plain": [
              "01:03:00    False\n",
              "01:03:01    False\n",
              "01:03:02    False\n",
              "01:03:03    False\n",
              "01:03:04    False\n",
              "01:03:05    False\n",
              "00:03:07    False\n",
              "00:03:06     True\n",
              "dtype: bool"
            ]
          },
          "metadata": {},
          "execution_count": 190
        }
      ]
    },
    {
      "cell_type": "markdown",
      "metadata": {
        "id": "f6I0sriiBR_X"
      },
      "source": [
        "There are reduction methods "
      ]
    },
    {
      "cell_type": "code",
      "metadata": {
        "id": "9I78Gc3NBR_Z",
        "colab": {
          "base_uri": "https://localhost:8080/"
        },
        "outputId": "741c0ebe-c30a-43e0-ec70-f0d5945f5832"
      },
      "source": [
        "ds_readings.isna().any()"
      ],
      "execution_count": null,
      "outputs": [
        {
          "output_type": "execute_result",
          "data": {
            "text/plain": [
              "True"
            ]
          },
          "metadata": {},
          "execution_count": 191
        }
      ]
    },
    {
      "cell_type": "code",
      "metadata": {
        "id": "YK0qWIuqBR_e",
        "colab": {
          "base_uri": "https://localhost:8080/"
        },
        "outputId": "b6af2c14-28fc-4a37-c7c8-33a2e896b712"
      },
      "source": [
        "ds_readings.isna().all()"
      ],
      "execution_count": null,
      "outputs": [
        {
          "output_type": "execute_result",
          "data": {
            "text/plain": [
              "False"
            ]
          },
          "metadata": {},
          "execution_count": 192
        }
      ]
    },
    {
      "cell_type": "code",
      "metadata": {
        "id": "7Abl__HRBR_f",
        "colab": {
          "base_uri": "https://localhost:8080/"
        },
        "outputId": "29b6a510-1050-4772-cc4f-83c5b5aa7d2f"
      },
      "source": [
        "ds_readings.isna().sum()"
      ],
      "execution_count": null,
      "outputs": [
        {
          "output_type": "execute_result",
          "data": {
            "text/plain": [
              "1"
            ]
          },
          "metadata": {},
          "execution_count": 193
        }
      ]
    },
    {
      "cell_type": "code",
      "metadata": {
        "id": "pDHV5FvSBR_g",
        "colab": {
          "base_uri": "https://localhost:8080/"
        },
        "outputId": "6813ee6a-a53b-4a45-869a-71c8b94aa89c"
      },
      "source": [
        "ds_readings.unique()"
      ],
      "execution_count": null,
      "outputs": [
        {
          "output_type": "execute_result",
          "data": {
            "text/plain": [
              "array([3.12, 0.  , 3.24, 3.48,  nan])"
            ]
          },
          "metadata": {},
          "execution_count": 194
        }
      ]
    },
    {
      "cell_type": "markdown",
      "metadata": {
        "id": "GpLo1evvBR_i"
      },
      "source": [
        "### Mappings"
      ]
    },
    {
      "cell_type": "code",
      "metadata": {
        "id": "i9lUe5PrBR_j",
        "colab": {
          "base_uri": "https://localhost:8080/"
        },
        "outputId": "cd160fa3-a38d-43c0-af7f-567727fc8222"
      },
      "source": [
        "mapping = {0: 10.0, np.nan: 0.0}\n",
        "ds_readings.replace(mapping)"
      ],
      "execution_count": null,
      "outputs": [
        {
          "output_type": "execute_result",
          "data": {
            "text/plain": [
              "01:03:00     3.12\n",
              "01:03:01    10.00\n",
              "01:03:02     3.24\n",
              "01:03:03    10.00\n",
              "01:03:04    10.00\n",
              "01:03:05    10.00\n",
              "00:03:07     3.48\n",
              "00:03:06     0.00\n",
              "dtype: float64"
            ]
          },
          "metadata": {},
          "execution_count": 197
        }
      ]
    },
    {
      "cell_type": "code",
      "metadata": {
        "id": "w1IFOi60BR_k"
      },
      "source": [
        "def myround(x):\n",
        "    return round(x, 1)"
      ],
      "execution_count": null,
      "outputs": []
    },
    {
      "cell_type": "code",
      "metadata": {
        "colab": {
          "base_uri": "https://localhost:8080/"
        },
        "id": "gqkCZO2uZrZn",
        "outputId": "6dac6a41-4493-4e04-89ba-3e89bbcfbf29"
      },
      "source": [
        "myround (ds_readings)"
      ],
      "execution_count": null,
      "outputs": [
        {
          "output_type": "execute_result",
          "data": {
            "text/plain": [
              "01:03:00    3.1\n",
              "01:03:01    0.0\n",
              "01:03:02    3.2\n",
              "01:03:03    0.0\n",
              "01:03:04    0.0\n",
              "01:03:05    0.0\n",
              "00:03:07    3.5\n",
              "00:03:06    NaN\n",
              "dtype: float64"
            ]
          },
          "metadata": {},
          "execution_count": 198
        }
      ]
    },
    {
      "cell_type": "code",
      "metadata": {
        "id": "nKah9_G8BR_m",
        "colab": {
          "base_uri": "https://localhost:8080/"
        },
        "outputId": "3272a873-a56a-438d-d3fd-10b990b768ba"
      },
      "source": [
        "ds_readings.map(myround)"
      ],
      "execution_count": null,
      "outputs": [
        {
          "output_type": "execute_result",
          "data": {
            "text/plain": [
              "01:03:00    3.1\n",
              "01:03:01    0.0\n",
              "01:03:02    3.2\n",
              "01:03:03    0.0\n",
              "01:03:04    0.0\n",
              "01:03:05    0.0\n",
              "00:03:07    3.5\n",
              "00:03:06    NaN\n",
              "dtype: float64"
            ]
          },
          "metadata": {},
          "execution_count": 201
        }
      ]
    },
    {
      "cell_type": "code",
      "metadata": {
        "id": "lU-ivvjbBR_o",
        "colab": {
          "base_uri": "https://localhost:8080/"
        },
        "outputId": "e94c57fb-2d4a-4e01-85b2-31f93057415f"
      },
      "source": [
        "ds_readings.map(lambda x: round(x,1))"
      ],
      "execution_count": null,
      "outputs": [
        {
          "output_type": "execute_result",
          "data": {
            "text/plain": [
              "01:03:00    3.1\n",
              "01:03:01    0.0\n",
              "01:03:02    3.2\n",
              "01:03:03    0.0\n",
              "01:03:04    0.0\n",
              "01:03:05    0.0\n",
              "00:03:07    3.5\n",
              "00:03:06    NaN\n",
              "dtype: float64"
            ]
          },
          "metadata": {},
          "execution_count": 200
        }
      ]
    },
    {
      "cell_type": "markdown",
      "metadata": {
        "id": "0Vrb75yLBR_r"
      },
      "source": [
        "## Exercise\n",
        "   * ### Change the index of the list you created in the previous exercise so that it is indexed by time\n",
        "   * ### Insert several np.nan values\n",
        "   * ### remove these values using `.isna()` and `.drop()`\n",
        "   * ### Define a function which squares numbers given as input and apply it accross the list using `.map()`\n",
        "    "
      ]
    },
    {
      "cell_type": "code",
      "metadata": {
        "colab": {
          "base_uri": "https://localhost:8080/"
        },
        "id": "Hl0GDmQKdwKD",
        "outputId": "fd5c67dc-1902-461c-e752-9c5b5b88d016"
      },
      "source": [
        "myds = pd.Series([12, 23, 34 ,45 ,56 ,67, 78, 89])\n",
        "myds"
      ],
      "execution_count": null,
      "outputs": [
        {
          "output_type": "execute_result",
          "data": {
            "text/plain": [
              "0    12\n",
              "1    23\n",
              "2    34\n",
              "3    45\n",
              "4    56\n",
              "5    67\n",
              "6    78\n",
              "7    89\n",
              "dtype: int64"
            ]
          },
          "metadata": {},
          "execution_count": 220
        }
      ]
    },
    {
      "cell_type": "code",
      "metadata": {
        "colab": {
          "base_uri": "https://localhost:8080/"
        },
        "id": "FCJu4u5ehgiO",
        "outputId": "f7120298-603b-4430-b275-2d2c5e7d178a"
      },
      "source": [
        "mytimings = [datetime.time( 1, 0, increment) for increment in range(8)]\n",
        "mytimings"
      ],
      "execution_count": null,
      "outputs": [
        {
          "output_type": "execute_result",
          "data": {
            "text/plain": [
              "[datetime.time(1, 0),\n",
              " datetime.time(1, 0, 1),\n",
              " datetime.time(1, 0, 2),\n",
              " datetime.time(1, 0, 3),\n",
              " datetime.time(1, 0, 4),\n",
              " datetime.time(1, 0, 5),\n",
              " datetime.time(1, 0, 6),\n",
              " datetime.time(1, 0, 7)]"
            ]
          },
          "metadata": {},
          "execution_count": 221
        }
      ]
    },
    {
      "cell_type": "code",
      "metadata": {
        "colab": {
          "base_uri": "https://localhost:8080/"
        },
        "id": "oLIfj5CWkoqs",
        "outputId": "15b1d1ad-2ca7-4c33-a1eb-c5b302a9598a"
      },
      "source": [
        "myds.index=mytimings\n",
        "myds"
      ],
      "execution_count": null,
      "outputs": [
        {
          "output_type": "execute_result",
          "data": {
            "text/plain": [
              "01:00:00    12\n",
              "01:00:01    23\n",
              "01:00:02    34\n",
              "01:00:03    45\n",
              "01:00:04    56\n",
              "01:00:05    67\n",
              "01:00:06    78\n",
              "01:00:07    89\n",
              "dtype: int64"
            ]
          },
          "metadata": {},
          "execution_count": 222
        }
      ]
    },
    {
      "cell_type": "code",
      "metadata": {
        "colab": {
          "base_uri": "https://localhost:8080/"
        },
        "id": "H-bAsAKflJKT",
        "outputId": "a5975208-7e9c-43fb-9b2b-eebc04566190"
      },
      "source": [
        "myds[datetime.time(0,0,2)] =  np.nan\n",
        "myds[datetime.time(1,2,0)] =  np.nan\n",
        "myds[datetime.time(1,0,12)] =  np.nan\n",
        "myds"
      ],
      "execution_count": null,
      "outputs": [
        {
          "output_type": "execute_result",
          "data": {
            "text/plain": [
              "01:00:00    12.0\n",
              "01:00:01    23.0\n",
              "01:00:02    34.0\n",
              "01:00:03    45.0\n",
              "01:00:04    56.0\n",
              "01:00:05    67.0\n",
              "01:00:06    78.0\n",
              "01:00:07    89.0\n",
              "00:00:02     NaN\n",
              "01:02:00     NaN\n",
              "01:00:12     NaN\n",
              "dtype: float64"
            ]
          },
          "metadata": {},
          "execution_count": 232
        }
      ]
    },
    {
      "cell_type": "code",
      "metadata": {
        "colab": {
          "base_uri": "https://localhost:8080/"
        },
        "id": "bPcw7ruXoqsW",
        "outputId": "f1cdaef5-99ad-4230-d058-b2a6712a2edb"
      },
      "source": [
        "myds.isna()\n",
        "myds[myds.isna()]\n",
        "nans=myds[myds.isna()]\n",
        "myds.drop(nans.index)"
      ],
      "execution_count": null,
      "outputs": [
        {
          "output_type": "execute_result",
          "data": {
            "text/plain": [
              "01:00:00    12.0\n",
              "01:00:01    23.0\n",
              "01:00:02    34.0\n",
              "01:00:03    45.0\n",
              "01:00:04    56.0\n",
              "01:00:05    67.0\n",
              "01:00:06    78.0\n",
              "01:00:07    89.0\n",
              "dtype: float64"
            ]
          },
          "metadata": {},
          "execution_count": 234
        }
      ]
    },
    {
      "cell_type": "code",
      "metadata": {
        "colab": {
          "base_uri": "https://localhost:8080/"
        },
        "id": "Gm3VL2IsrwZR",
        "outputId": "629ba314-8088-4805-ad9b-c34112e83d63"
      },
      "source": [
        "def mysqr(x):\n",
        "    return (x**2)\n",
        "  \n",
        "myds.map(lambda x: mysqr(x))"
      ],
      "execution_count": null,
      "outputs": [
        {
          "output_type": "execute_result",
          "data": {
            "text/plain": [
              "01:00:00     144.0\n",
              "01:00:01     529.0\n",
              "01:00:02    1156.0\n",
              "01:00:03    2025.0\n",
              "01:00:04    3136.0\n",
              "01:00:05    4489.0\n",
              "01:00:06    6084.0\n",
              "01:00:07    7921.0\n",
              "00:00:02       NaN\n",
              "01:02:00       NaN\n",
              "01:00:12       NaN\n",
              "dtype: float64"
            ]
          },
          "metadata": {},
          "execution_count": 238
        }
      ]
    }
  ]
}