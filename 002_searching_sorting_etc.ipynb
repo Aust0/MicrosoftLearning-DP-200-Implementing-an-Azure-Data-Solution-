{
  "nbformat": 4,
  "nbformat_minor": 0,
  "metadata": {
    "colab": {
      "name": "002 searching sorting etc.ipynb",
      "provenance": [],
      "collapsed_sections": [],
      "include_colab_link": true
    },
    "kernelspec": {
      "name": "python3",
      "display_name": "Python 3"
    },
    "language_info": {
      "name": "python"
    }
  },
  "cells": [
    {
      "cell_type": "markdown",
      "metadata": {
        "id": "view-in-github",
        "colab_type": "text"
      },
      "source": [
        "<a href=\"https://colab.research.google.com/github/Aust0/MicrosoftLearning-DP-200-Implementing-an-Azure-Data-Solution-/blob/master/002_searching_sorting_etc.ipynb\" target=\"_parent\"><img src=\"https://colab.research.google.com/assets/colab-badge.svg\" alt=\"Open In Colab\"/></a>"
      ]
    },
    {
      "cell_type": "code",
      "metadata": {
        "id": "YnOr5_jJH_Ks"
      },
      "source": [
        "# Linear Search\n",
        "# Where you apply the most obvious (but most likely the least-optimized) way of doing things\n",
        "# Looking at items one by one\n",
        "# Brute Force Approach \n",
        "\n",
        "# Yesterday-> calculating prime numbers\n",
        "# brute force-> loop from 1 to n\n",
        "# optimization-> loop from 1 to n/2 \n",
        "\n",
        "# Brute Force, Divide and Conquer, Greedy, Incomplete "
      ],
      "execution_count": 3,
      "outputs": []
    },
    {
      "cell_type": "code",
      "metadata": {
        "id": "RdX0dCdgJOhi"
      },
      "source": [
        "# Algorithm's complexity/ Cost \n",
        "# 2 factors: Time (how much time does it take?), Memory (how much space?)\n",
        "\n",
        "# Linear Search-> counting elements one-by-one (Brute Force)\n",
        "# Binary Search-> break the dataset into 2 smaller datasets and search (divide-and-conquer)\n"
      ],
      "execution_count": 4,
      "outputs": []
    },
    {
      "cell_type": "code",
      "metadata": {
        "colab": {
          "base_uri": "https://localhost:8080/"
        },
        "id": "IlhqdY00Jx4k",
        "outputId": "4878c245-832e-4e9e-87cc-0b6d15dfbb61"
      },
      "source": [
        "# generate random numbers\n",
        "# begin with empty list\n",
        "import random\n",
        "data = []\n",
        "# generate 100 numbers and insert them into the list\n",
        "for i in range(100):\n",
        "  rn = random.randint(1,100) # generated random numbers between 1 to 100\n",
        "  data.append(rn)\n",
        "  # data.append(random.randint(1,100)) # does the same thing in 1 line\n",
        "\n",
        "print(data)"
      ],
      "execution_count": 5,
      "outputs": [
        {
          "output_type": "stream",
          "name": "stdout",
          "text": [
            "[47, 33, 10, 70, 47, 95, 79, 74, 87, 87, 52, 51, 52, 24, 62, 36, 32, 44, 69, 63, 9, 55, 99, 54, 62, 48, 64, 61, 40, 80, 84, 62, 12, 87, 29, 36, 52, 76, 5, 86, 85, 84, 58, 60, 53, 27, 26, 66, 98, 86, 88, 12, 26, 75, 48, 12, 57, 87, 57, 48, 95, 71, 93, 84, 37, 79, 7, 3, 39, 68, 62, 34, 8, 44, 96, 32, 69, 22, 64, 13, 69, 76, 95, 36, 48, 18, 40, 79, 88, 62, 73, 2, 21, 81, 99, 100, 35, 17, 44, 86]\n"
          ]
        }
      ]
    },
    {
      "cell_type": "code",
      "metadata": {
        "id": "--NOU-hsRZVA",
        "colab": {
          "base_uri": "https://localhost:8080/"
        },
        "outputId": "5b49042b-3f8e-4397-a2d6-0f75d9a8f104"
      },
      "source": [
        "### Original \n",
        "\n",
        "\n",
        "element = int(input(\"Enter an element to search ... \"))\n",
        "elementFound = False\n",
        "for i in data:\n",
        "  if(i == element):\n",
        "    elementFound = True\n",
        "    break\n",
        "\n",
        "if(elementFound):\n",
        "  print('Element Found')\n",
        "else:\n",
        "  print('Element not found')\n",
        "\n"
      ],
      "execution_count": 6,
      "outputs": [
        {
          "output_type": "stream",
          "name": "stdout",
          "text": [
            "Enter an element to search ... 55\n",
            "Element Found\n"
          ]
        }
      ]
    },
    {
      "cell_type": "code",
      "metadata": {
        "colab": {
          "base_uri": "https://localhost:8080/"
        },
        "id": "QB2vJJucLje9",
        "outputId": "26a874c0-684a-482a-f855-7eb5a196d04c"
      },
      "source": [
        "# problem statement: modify this program to also print how much TIME does it\n",
        "# take to execute the search \n",
        "\n",
        "element = int(input(\"Enter an element to search ... \"))\n",
        "import time\n",
        "begintime = time.time()\n",
        "elementFound = False  \n",
        "for i in data:\n",
        "  if(i == element):\n",
        "    elementFound = True\n",
        "    break\n",
        "\n",
        "# Total time of algorithm -> entire process\n",
        "# Optimizing my algo-> calculation-> starting from house \n",
        "\n",
        "\n",
        "endtime= time.time()\n",
        "print('Time Taken='+ str( (endtime-begintime)*1000 ) + \" seconds\")\n",
        "if(elementFound):\n",
        "  print('Element Found')\n",
        "else:\n",
        "  print('Element not found')\n",
        "\n"
      ],
      "execution_count": 7,
      "outputs": [
        {
          "output_type": "stream",
          "name": "stdout",
          "text": [
            "Enter an element to search ... 55\n",
            "Time Taken=0.1392364501953125 seconds\n",
            "Element Found\n"
          ]
        }
      ]
    },
    {
      "cell_type": "code",
      "metadata": {
        "id": "YHHIkvhWNJ9H"
      },
      "source": [
        ""
      ],
      "execution_count": null,
      "outputs": []
    },
    {
      "cell_type": "code",
      "metadata": {
        "colab": {
          "base_uri": "https://localhost:8080/"
        },
        "id": "HiYC-XP8NS4p",
        "outputId": "57da88d9-616c-40a8-8a0a-0192571b2c30"
      },
      "source": [
        "# problem statement: modify this program to also print the location of element found!\n",
        "# problem statement: modify this program to also print how much TIME does it\n",
        "# take to execute the search \n",
        "\n",
        "element = int(input(\"Enter an element to search ... \"))\n",
        "import time\n",
        "begintime = time.time()\n",
        "elementFound = False  \n",
        "totalelements = len(data) # calculating total elements in data [which is 100]\n",
        "element_index_list = range(totalelements) # creating a list that looks like [0,1,2,3.... 99] if data has 100 elements\n",
        "\n",
        "for i in element_index_list: # better implementation: for i in range(len(data)): \n",
        "  if(data[i] == element):\n",
        "    elementFound = True\n",
        "    print('Element Found at location number ' + str(i+1))\n",
        "    break\n",
        "\n",
        "# Total time of algorithm -> entire process\n",
        "# Optimizing my algo-> calculation-> starting from house \n",
        "endtime= time.time()\n",
        "print('Time Taken='+ str( (endtime-begintime)*1000 ) + \" seconds\")\n",
        "if(not elementFound):\n",
        "  print('Element not found')\n",
        "\n"
      ],
      "execution_count": 8,
      "outputs": [
        {
          "output_type": "stream",
          "name": "stdout",
          "text": [
            "Enter an element to search ... 55\n",
            "Element Found at location number 22\n",
            "Time Taken=0.2598762512207031 seconds\n"
          ]
        }
      ]
    },
    {
      "cell_type": "code",
      "metadata": {
        "id": "6g72HlIWaZLS"
      },
      "source": [
        "# x= 4,5,67,8\n",
        "# 67-> element to find\n",
        "# len(x)-> 4 elements \n",
        "# for i in range(4): ---->   for i in [0,1,2,3]\n",
        "\n",
        "# x[0],x[1],x[2],x[3]-> we could then use i like this-> x[i]"
      ],
      "execution_count": 9,
      "outputs": []
    },
    {
      "cell_type": "code",
      "metadata": {
        "colab": {
          "base_uri": "https://localhost:8080/"
        },
        "id": "g_oyTKJ5iThS",
        "outputId": "cbd1a547-c26d-431f-bec9-5304988797cf"
      },
      "source": [
        "# generate random numbers\n",
        "# begin with empty list\n",
        "import random\n",
        "data = []\n",
        "# generate 100 numbers and insert them into the list\n",
        "for i in range(100):\n",
        "  rn = random.randint(1,100) # generated random numbers between 1 to 100\n",
        "  data.append(rn)\n",
        "  # data.append(random.randint(1,100)) # does the same thing in 1 line\n",
        "\n",
        "print(data)"
      ],
      "execution_count": 10,
      "outputs": [
        {
          "output_type": "stream",
          "name": "stdout",
          "text": [
            "[91, 39, 81, 52, 16, 50, 71, 35, 57, 88, 10, 49, 44, 53, 37, 17, 71, 50, 11, 90, 10, 78, 55, 99, 52, 74, 57, 79, 60, 84, 14, 36, 75, 17, 1, 68, 73, 50, 50, 89, 50, 3, 3, 41, 74, 85, 100, 30, 86, 56, 58, 15, 35, 24, 78, 92, 23, 68, 24, 79, 54, 100, 66, 17, 100, 11, 37, 70, 5, 91, 15, 47, 96, 88, 91, 52, 65, 29, 39, 99, 21, 32, 53, 7, 75, 28, 2, 91, 55, 12, 6, 48, 95, 3, 79, 27, 78, 51, 62, 7]\n"
          ]
        }
      ]
    },
    {
      "cell_type": "code",
      "metadata": {
        "colab": {
          "base_uri": "https://localhost:8080/"
        },
        "id": "MKoGlQl1iait",
        "outputId": "0265fadd-9b80-40e2-a117-d50663872fd9"
      },
      "source": [
        "# largest number in data!\n",
        "max = data[0]\n",
        "min = data[0]\n",
        "\n",
        "for i in data:\n",
        "   if i>max:\n",
        "     max=i\n",
        "   if i<min:\n",
        "     min = i\n",
        "\n",
        "print(\"max=\" + str(max))\n",
        "print(\"min=\" + str(min))\n",
        "\n",
        "\n"
      ],
      "execution_count": 11,
      "outputs": [
        {
          "output_type": "stream",
          "name": "stdout",
          "text": [
            "max=100\n",
            "min=1\n"
          ]
        }
      ]
    },
    {
      "cell_type": "code",
      "metadata": {
        "id": "WARFXnw1krJm"
      },
      "source": [
        "# data: 4 10 0 42 1\n",
        "# indx: 0 1  2  3 4\n",
        "# data[2] = ? = 0\n",
        "# data[0] = ? = 4\n",
        "\n",
        "# rl=0,1,2,3\n",
        "# for i in rl:\n",
        "#     print(data[i])\n",
        "\n"
      ],
      "execution_count": 13,
      "outputs": []
    },
    {
      "cell_type": "code",
      "metadata": {
        "colab": {
          "base_uri": "https://localhost:8080/"
        },
        "id": "NPr178AelD7i",
        "outputId": "e001c348-c9a2-4af0-d366-68360c533476"
      },
      "source": [
        "data=[ 4 ,10, 0, 42, 1] # looping through values\n",
        "for i in data:\n",
        "  print(i, end=\" \")"
      ],
      "execution_count": 14,
      "outputs": [
        {
          "output_type": "stream",
          "name": "stdout",
          "text": [
            "4 10 0 42 1 "
          ]
        }
      ]
    },
    {
      "cell_type": "code",
      "metadata": {
        "colab": {
          "base_uri": "https://localhost:8080/"
        },
        "id": "4OmoFA8ClPT1",
        "outputId": "6a1f1c93-f36b-453a-a019-309e295dae04"
      },
      "source": [
        "data=[ 4 ,10, 0, 42, 1] # looping through index \n",
        "for i in range(len(data)):\n",
        "  print(data[i], end=\" \")"
      ],
      "execution_count": 15,
      "outputs": [
        {
          "output_type": "stream",
          "name": "stdout",
          "text": [
            "4 10 0 42 1 "
          ]
        }
      ]
    },
    {
      "cell_type": "code",
      "metadata": {
        "colab": {
          "base_uri": "https://localhost:8080/"
        },
        "id": "rah7g_HGlbMi",
        "outputId": "845210b3-6a29-4ffa-c491-af4a1879cb56"
      },
      "source": [
        "# Find sum of all the numbers in data\n",
        "sum = 0\n",
        "for i in data:\n",
        "  sum = sum + i\n",
        "\n",
        "print(sum)\n",
        "\n"
      ],
      "execution_count": 16,
      "outputs": [
        {
          "output_type": "stream",
          "name": "stdout",
          "text": [
            "57\n"
          ]
        }
      ]
    },
    {
      "cell_type": "code",
      "metadata": {
        "id": "b789hh6utun7"
      },
      "source": [
        "# find the mean of all the numbers in data\n",
        "# mean = (sum of all numbers) / (total numbers in data)"
      ],
      "execution_count": null,
      "outputs": []
    },
    {
      "cell_type": "code",
      "metadata": {
        "id": "JCWqKezPt2Fo",
        "colab": {
          "base_uri": "https://localhost:8080/"
        },
        "outputId": "4664e2fb-602a-4e1a-9cd8-afbb2a6194f1"
      },
      "source": [
        "sum = 0\n",
        "for i in data:\n",
        "  sum = sum + i\n",
        "mean= sum/len(data)\n",
        "print(sum)\n",
        "print(mean)"
      ],
      "execution_count": 19,
      "outputs": [
        {
          "output_type": "stream",
          "name": "stdout",
          "text": [
            "57\n",
            "11.4\n"
          ]
        }
      ]
    }
  ]
}