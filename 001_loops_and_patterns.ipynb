{
  "nbformat": 4,
  "nbformat_minor": 0,
  "metadata": {
    "colab": {
      "name": "001 loops and patterns.ipynb",
      "provenance": [],
      "include_colab_link": true
    },
    "kernelspec": {
      "name": "python3",
      "display_name": "Python 3"
    },
    "language_info": {
      "name": "python"
    }
  },
  "cells": [
    {
      "cell_type": "markdown",
      "metadata": {
        "id": "view-in-github",
        "colab_type": "text"
      },
      "source": [
        "<a href=\"https://colab.research.google.com/github/Aust0/MicrosoftLearning-DP-200-Implementing-an-Azure-Data-Solution-/blob/master/001_loops_and_patterns.ipynb\" target=\"_parent\"><img src=\"https://colab.research.google.com/assets/colab-badge.svg\" alt=\"Open In Colab\"/></a>"
      ]
    },
    {
      "cell_type": "code",
      "metadata": {
        "colab": {
          "base_uri": "https://localhost:8080/"
        },
        "id": "5yoDYl7q-PVh",
        "outputId": "683fdb52-fc4e-4d21-8293-1d9d950af677"
      },
      "source": [
        "# to print first 10 numbers\n",
        "# range-> generate values in steps\n",
        "range(10)"
      ],
      "execution_count": null,
      "outputs": [
        {
          "output_type": "execute_result",
          "data": {
            "text/plain": [
              "range(0, 10)"
            ]
          },
          "metadata": {},
          "execution_count": 1
        }
      ]
    },
    {
      "cell_type": "code",
      "metadata": {
        "colab": {
          "base_uri": "https://localhost:8080/"
        },
        "id": "NZcmXDzH-yaE",
        "outputId": "fcea541a-f75d-4b3a-a441-f60ce423bcdc"
      },
      "source": [
        "# a very simple square series\n",
        "for n in range(10):\n",
        "  print(n**2)"
      ],
      "execution_count": null,
      "outputs": [
        {
          "output_type": "stream",
          "name": "stdout",
          "text": [
            "0\n",
            "1\n",
            "4\n",
            "9\n",
            "16\n",
            "25\n",
            "36\n",
            "49\n",
            "64\n",
            "81\n"
          ]
        }
      ]
    },
    {
      "cell_type": "code",
      "metadata": {
        "colab": {
          "base_uri": "https://localhost:8080/"
        },
        "id": "PHJjmcuw-9NA",
        "outputId": "43af3699-8d61-47ee-ced8-cc032ebd48fb"
      },
      "source": [
        "# simple pattern\n",
        "for n in range(10):\n",
        "  for m in range(n):\n",
        "    print(m, end=' ')\n",
        "  print('\\n')\n"
      ],
      "execution_count": null,
      "outputs": [
        {
          "output_type": "stream",
          "name": "stdout",
          "text": [
            "\n",
            "\n",
            "0 \n",
            "\n",
            "0 1 \n",
            "\n",
            "0 1 2 \n",
            "\n",
            "0 1 2 3 \n",
            "\n",
            "0 1 2 3 4 \n",
            "\n",
            "0 1 2 3 4 5 \n",
            "\n",
            "0 1 2 3 4 5 6 \n",
            "\n",
            "0 1 2 3 4 5 6 7 \n",
            "\n",
            "0 1 2 3 4 5 6 7 8 \n",
            "\n"
          ]
        }
      ]
    },
    {
      "cell_type": "code",
      "metadata": {
        "id": "17o0yzYF_oxJ"
      },
      "source": [
        "# PROBLEM STATEMENT:\n",
        "# print the pattern in opposite\n",
        "# 0 1 2 3 4 5 6 7 8 \n",
        "# 0 1 2 3 4 5 6 7 \n",
        "# 0 1 2 3 4 5 6 \n",
        "# ....\n",
        "# 0 1 2\n",
        "# 0 1 \n",
        "# 0"
      ],
      "execution_count": null,
      "outputs": []
    },
    {
      "cell_type": "code",
      "metadata": {
        "colab": {
          "base_uri": "https://localhost:8080/"
        },
        "id": "EkWSn8neDeVH",
        "outputId": "c490e71b-71ce-40dc-872e-3051e7bbe1da"
      },
      "source": [
        "total = 10\n",
        "for i in range(total): # 0 1 2\n",
        "  for j in range(total-i): # [0,1,2], [0,1], [0]-> print space\n",
        "    print(' ', end='')\n",
        "  for k in range(i+1): # [], [0], [0,1]\n",
        "    print(k, end=' ')\n",
        "  print()"
      ],
      "execution_count": null,
      "outputs": [
        {
          "output_type": "stream",
          "name": "stdout",
          "text": [
            "          0 \n",
            "         0 1 \n",
            "        0 1 2 \n",
            "       0 1 2 3 \n",
            "      0 1 2 3 4 \n",
            "     0 1 2 3 4 5 \n",
            "    0 1 2 3 4 5 6 \n",
            "   0 1 2 3 4 5 6 7 \n",
            "  0 1 2 3 4 5 6 7 8 \n",
            " 0 1 2 3 4 5 6 7 8 9 \n"
          ]
        }
      ]
    },
    {
      "cell_type": "code",
      "metadata": {
        "colab": {
          "base_uri": "https://localhost:8080/"
        },
        "id": "MAHqOg48Iu7f",
        "outputId": "b99e8d87-ed1a-4b5b-e0d6-a64f8ee80058"
      },
      "source": [
        "total = 10\n",
        "for i in range(total):\n",
        "  for space in range(i):\n",
        "    print(' ',end='')\n",
        "  for elements in range(total-i):\n",
        "    print(elements, end=' ')\n",
        "  print()\n",
        "  "
      ],
      "execution_count": null,
      "outputs": [
        {
          "output_type": "stream",
          "name": "stdout",
          "text": [
            "0 1 2 3 4 5 6 7 8 9 \n",
            " 0 1 2 3 4 5 6 7 8 \n",
            "  0 1 2 3 4 5 6 7 \n",
            "   0 1 2 3 4 5 6 \n",
            "    0 1 2 3 4 5 \n",
            "     0 1 2 3 4 \n",
            "      0 1 2 3 \n",
            "       0 1 2 \n",
            "        0 1 \n",
            "         0 \n"
          ]
        }
      ]
    },
    {
      "cell_type": "code",
      "metadata": {
        "id": "j9pFiPTCDyjc"
      },
      "source": [
        "# Problem Statemenet\n",
        "# Pyramid in reverse\n",
        "# 0 1 2 3 4 5 6 7 8 \n",
        "#  0 1 2 3 4 5 6 7 \n",
        "#   0 1 2 3 4 5 6 \n",
        "#     .........\n",
        "#        0 1\n",
        "#         1\n"
      ],
      "execution_count": null,
      "outputs": []
    },
    {
      "cell_type": "code",
      "metadata": {
        "colab": {
          "base_uri": "https://localhost:8080/"
        },
        "id": "mCncWdcaH0CX",
        "outputId": "67ed8559-043e-43b3-f01c-16e1d47600fd"
      },
      "source": [
        "total = 11\n",
        "for i in range(total-1):\n",
        "  if(i<=(total/2) -1):\n",
        "    #spaces on left\n",
        "    if(i==0):\n",
        "      continue\n",
        "    \n",
        "    for space in range(i):\n",
        "      print(' ',end='')\n",
        "    print('*', end='')\n",
        "    #spaces in between\n",
        "    for morespace in range(total-2*i): # why -2? because we are printing at least 2 characters (*,*)\n",
        "      print(' ', end='')\n",
        "    print('*')\n",
        "\n",
        "  else:\n",
        "    for space in range(total-i):\n",
        "      print(' ', end='')\n",
        "    print('*', end='')\n",
        "    if(i == int(total/2)):\n",
        "      print()\n",
        "      continue\n",
        "    for morespace in range(2*i - total): # why -2? because we are printing at least 2 characters (*,*)\n",
        "      print(' ', end='')\n",
        "    print('*')"
      ],
      "execution_count": null,
      "outputs": [
        {
          "output_type": "stream",
          "name": "stdout",
          "text": [
            " *         *\n",
            "  *       *\n",
            "   *     *\n",
            "    *   *\n",
            "      *\n",
            "     * *\n",
            "    *   *\n",
            "   *     *\n",
            "  *       *\n"
          ]
        }
      ]
    },
    {
      "cell_type": "code",
      "metadata": {
        "colab": {
          "base_uri": "https://localhost:8080/"
        },
        "id": "TeNQOBiNIb5b",
        "outputId": "d60c4321-2b88-40d1-e13b-18ea7960eb1f"
      },
      "source": [
        "total = 5\n",
        "for i in range(total):\n",
        "  for space in range(i):\n",
        "    print(' ',end='')\n",
        "  print('*',end='')\n",
        "  for morespace in range(total-i):\n",
        "    print('  ', end='')\n",
        "  print('*')\n",
        "for j in range(total):\n",
        "  print(' ', end='')\n",
        "print('*')"
      ],
      "execution_count": null,
      "outputs": [
        {
          "output_type": "stream",
          "name": "stdout",
          "text": [
            "*          *\n",
            " *        *\n",
            "  *      *\n",
            "   *    *\n",
            "    *  *\n",
            "     *\n"
          ]
        }
      ]
    },
    {
      "cell_type": "code",
      "metadata": {
        "id": "nUSMLBLtQWgE"
      },
      "source": [
        "# Palindromes\n",
        "# '1221' -> palindrome \n",
        "# 'bob'-> palindrome\n",
        "# 'water'-> is not!\n",
        "# word = reverse_word! \n",
        "\n"
      ],
      "execution_count": null,
      "outputs": []
    },
    {
      "cell_type": "code",
      "metadata": {
        "colab": {
          "base_uri": "https://localhost:8080/"
        },
        "id": "_aB8LkdnV8nf",
        "outputId": "aab75917-ddfa-4d73-e6f9-f33f2d096235"
      },
      "source": [
        "\n"
      ],
      "execution_count": null,
      "outputs": [
        {
          "name": "stdout",
          "output_type": "stream",
          "text": [
            "121\n"
          ]
        }
      ]
    },
    {
      "cell_type": "code",
      "metadata": {
        "colab": {
          "base_uri": "https://localhost:8080/"
        },
        "id": "O4hIsFRhWC2Q",
        "outputId": "af660ad3-2269-417d-fd97-e40f0027bbf5"
      },
      "source": [
        "n1 = int(input())\n",
        "n1_copy = n1\n",
        "n2 = 0\n",
        "while(n1_copy>0):\n",
        "  last_digit = n1_copy % 10\n",
        "  n1_copy = int(n1_copy / 10)\n",
        "  n2 = n2*10 + last_digit\n",
        "  \n",
        "if(n1==n2):\n",
        "  print('Palindrome')\n",
        "else:\n",
        "  print('no idea what is this')\n",
        "\n",
        "# 456 -> 6 out of it\n",
        "# i need 5, and next time i need 4\n",
        "# 456/10 = int(45.6) = 45\n",
        "\n",
        "# next time-> 45 -> %10-> 5 out of it\n",
        "\n",
        "\n",
        "\n",
        "# 6776 -> 6\n",
        "# 0 *10 + 6 = 0+6 = 6\n",
        "# 6*10 + 7 = 67\n",
        "# 67*10 + 7 = 677\n",
        "# 677*10 + 6 = 6776"
      ],
      "execution_count": null,
      "outputs": [
        {
          "output_type": "stream",
          "name": "stdout",
          "text": [
            "1234567890987654321\n",
            "no idea what is this\n"
          ]
        }
      ]
    },
    {
      "cell_type": "code",
      "metadata": {
        "colab": {
          "base_uri": "https://localhost:8080/"
        },
        "id": "0i09jAq8gYny",
        "outputId": "e8442ee9-0d1c-4c54-8b89-e12919b2ae19"
      },
      "source": [
        "n1"
      ],
      "execution_count": null,
      "outputs": [
        {
          "output_type": "execute_result",
          "data": {
            "text/plain": [
              "1234567890987654321"
            ]
          },
          "metadata": {},
          "execution_count": 78
        }
      ]
    },
    {
      "cell_type": "code",
      "metadata": {
        "colab": {
          "base_uri": "https://localhost:8080/"
        },
        "id": "gvaIMo-KgaJu",
        "outputId": "59c49060-a618-421a-b14f-21e4f387cd02"
      },
      "source": [
        "n2"
      ],
      "execution_count": null,
      "outputs": [
        {
          "output_type": "execute_result",
          "data": {
            "text/plain": [
              "1044567890987654321"
            ]
          },
          "metadata": {},
          "execution_count": 79
        }
      ]
    },
    {
      "cell_type": "markdown",
      "metadata": {
        "id": "iosAfu8hgYc3"
      },
      "source": [
        ""
      ]
    },
    {
      "cell_type": "markdown",
      "metadata": {
        "id": "k9mP4iPQXra-"
      },
      "source": [
        " 567\n",
        "\n",
        " 7,6,5\n",
        "\n",
        " Decimal system:\n",
        "\n",
        " position X 10^position\n",
        "\n",
        " 10^2 10^1 10^0\n",
        " 1,    4,   7"
      ]
    },
    {
      "cell_type": "code",
      "metadata": {
        "colab": {
          "base_uri": "https://localhost:8080/"
        },
        "id": "Gifs-kc4WFs4",
        "outputId": "bc4e2e5d-fab9-4a04-bb9b-90dafd5b20ec"
      },
      "source": [
        "# PRIME NUMBER-> a number divisible by itself and 1\n",
        "number = int(input())\n",
        "import time\n",
        "begin = time.time()\n",
        "total_factors = 0\n",
        "noprime = False\n",
        "for i in range(1,int(number/2)): # we start from 1 to avoid div by 0 situation\n",
        "  if(number % i == 0 and i != 1):\n",
        "    print('NOT a prime number!')\n",
        "    noprime = True\n",
        "    break\n",
        "\n",
        "if(not noprime):\n",
        "  print('Prime')\n",
        "end = time.time()\n",
        "print('TIme Taken= '+ str(end-begin))\n"
      ],
      "execution_count": null,
      "outputs": [
        {
          "output_type": "stream",
          "name": "stdout",
          "text": [
            "6500000\n",
            "NOT a prime number!\n",
            "TIme Taken= 0.0003800392150878906\n"
          ]
        }
      ]
    },
    {
      "cell_type": "code",
      "metadata": {
        "colab": {
          "base_uri": "https://localhost:8080/"
        },
        "id": "n-QSxrj-inw_",
        "outputId": "06ac022f-eb25-40ba-ae86-72f6548ee44a"
      },
      "source": [
        "# PRIME NUMBER-> a number divisible by itself and 1\n",
        "number = int(input())\n",
        "import time\n",
        "begin = time.time()\n",
        "total_factors = 0\n",
        "noprime = False\n",
        "for i in range(1,number): # we start from 1 to avoid div by 0 situation\n",
        "  if(number % i == 0 and i != 1):\n",
        "    print('NOT a prime number!')\n",
        "    noprime = True\n",
        "    break\n",
        "\n",
        "if(not noprime):\n",
        "  print('Prime')\n",
        "end = time.time()\n",
        "print('TIme Taken= '+ str(end-begin))\n"
      ],
      "execution_count": null,
      "outputs": [
        {
          "output_type": "stream",
          "name": "stdout",
          "text": [
            "6500000\n",
            "NOT a prime number!\n",
            "TIme Taken= 0.0007975101470947266\n"
          ]
        }
      ]
    },
    {
      "cell_type": "code",
      "metadata": {
        "id": "iyVZyIF9k1Cb"
      },
      "source": [
        ""
      ],
      "execution_count": null,
      "outputs": []
    }
  ]
}